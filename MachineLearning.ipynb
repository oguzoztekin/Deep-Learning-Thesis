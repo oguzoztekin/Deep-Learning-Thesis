{
  "nbformat": 4,
  "nbformat_minor": 0,
  "metadata": {
    "colab": {
      "provenance": []
    },
    "kernelspec": {
      "name": "python3",
      "display_name": "Python 3"
    },
    "language_info": {
      "name": "python"
    }
  },
  "cells": [
    {
      "cell_type": "markdown",
      "source": [
        "**Machine Learning Master Lectures**"
      ],
      "metadata": {
        "id": "4_xK28RypDMq"
      }
    },
    {
      "cell_type": "markdown",
      "source": [
        "**Simple Linear Regression Model**\n",
        "\n",
        "Modelizes a linear relationship between\n",
        "* a variable on y-axis to be explained\n",
        "* a variable on x-axis which will explain\n",
        "\n",
        "> Predict Y given X $P(Y~|~ X )$.\n",
        "\n",
        "The model fit to the data isn't always perfect than we use an error term for indivudal i for make the model fit perfect\n",
        "\n",
        "$$\n",
        "yᵢ = a*xᵢ + b + ɛᵢ\n",
        "$$ where $(a,b) ∈ ℜ$ and $(a,b) \\neq (0,0)$\n",
        "\n",
        "* b: intercept and a: slope\n",
        "* $ɛᵢ$: random variable for each individual i\n",
        "\n",
        "\n",
        "1. $ɛᵢs$ are independent random variables ($ɛᵢ⊔ ɛⱼ $, $1\\leq i \\neq j \\leq n$)\n",
        "2. $E[Yᵢ ~|~ Xᵢ = xᵢ ]$ = $a*xᵢ + b$ ⟺ $E(ɛᵢ) = 0$\n",
        "3. $Var(Yᵢ ~|~ Xᵢ = xᵢ) = $\n",
        "\n"
      ],
      "metadata": {
        "id": "uE64n488qfo_"
      }
    },
    {
      "cell_type": "code",
      "execution_count": null,
      "metadata": {
        "id": "Y504ChUtoIB7"
      },
      "outputs": [],
      "source": [
        "#importing libraries\n",
        "import numpy as np\n",
        "import pandas as pd\n",
        "from sklearn.linear_model import LinearRegression, LogisticRegression\n",
        "from sklearn.model_selection import train_test_split\n",
        "from sklearn.metrics import confusion_matrix, accuracy_score, roc_auc_score, log_loss\n",
        "import matplotlib.pyplot as plt\n",
        "import seaborn as sns"
      ]
    },
    {
      "cell_type": "markdown",
      "source": [
        "We'll start with naive Bayes classification which is a supervised method (who works with training data)\n",
        "\n",
        "\n"
      ],
      "metadata": {
        "id": "RYJGm8goqCTs"
      }
    },
    {
      "cell_type": "markdown",
      "source": [
        "\n",
        "\n",
        "---\n",
        "\n",
        "\n",
        "\n",
        "---\n",
        "\n",
        "\n",
        "\n",
        "---\n",
        "\n",
        "\n",
        "\n",
        "---\n",
        "\n",
        "\n",
        "\n",
        "---\n",
        "\n",
        "\n",
        "\n",
        "\n",
        "# **Some ML Lectures in GSU data science master**\n",
        "\n",
        "---\n",
        "\n",
        "---\n",
        "\n",
        "\n",
        "\n",
        "---\n",
        "\n",
        "\n",
        "\n",
        "---\n",
        "\n",
        "\n",
        "\n",
        "---\n",
        "\n",
        "\n",
        "\n"
      ],
      "metadata": {
        "id": "5yQ1hBA7c5Vc"
      }
    },
    {
      "cell_type": "markdown",
      "source": [
        "## **Simple Linear Regression**"
      ],
      "metadata": {
        "id": "7xJCXV2OupIL"
      }
    },
    {
      "cell_type": "code",
      "source": [
        "%matplotlib inline\n",
        "import matplotlib.pyplot as plt\n",
        "plt.style.use('seaborn-whitegrid')\n",
        "import numpy as np"
      ],
      "metadata": {
        "colab": {
          "base_uri": "https://localhost:8080/"
        },
        "id": "mnYEZ6MIdAZZ",
        "outputId": "060f6238-bb6a-4b71-82c9-2b2208d7f537"
      },
      "execution_count": null,
      "outputs": [
        {
          "output_type": "stream",
          "name": "stderr",
          "text": [
            "<ipython-input-1-cd9e54b682e8>:3: MatplotlibDeprecationWarning: The seaborn styles shipped by Matplotlib are deprecated since 3.6, as they no longer correspond to the styles shipped by seaborn. However, they will remain available as 'seaborn-v0_8-<style>'. Alternatively, directly use the seaborn API instead.\n",
            "  plt.style.use('seaborn-whitegrid')\n"
          ]
        }
      ]
    },
    {
      "cell_type": "code",
      "source": [
        "#Random seedlerine göre farklı 10 adet x generate edip y=2x-5+rng çıkartıyoruz\n",
        "rng = np.random.RandomState(42)\n",
        "x = 10 * rng.rand(50) #0 ve 1 arasında 50 float generate ediyo\n",
        "y = 2 * x - 5 + rng.randn(50)\n",
        "plt.scatter(x, y); #x de y de list\n",
        "#for i in range(len(x)):\n",
        "#    print(f\"Nokta {i+1}: (x = {x[i]}, y = {y[i]})\")\n",
        "\n",
        "rng = np.random.RandomState(43)\n",
        "t = 10 * rng.rand(50) #0 ve 1 arasında 50 sayı generate ediyo\n",
        "z = 2 * t - 5 + rng.randn(50)\n",
        "plt.scatter(t, z);\n",
        "#for i in range(len(t)):\n",
        "#    print(f\"Nokta {i+1}: (t = {t[i]}, z = {z[i]})\")"
      ],
      "metadata": {
        "id": "lDbcHZsneF4k",
        "colab": {
          "base_uri": "https://localhost:8080/",
          "height": 425
        },
        "outputId": "39d006af-8766-4c85-fdfd-32fcb7dfb23e"
      },
      "execution_count": null,
      "outputs": [
        {
          "output_type": "display_data",
          "data": {
            "text/plain": [
              "<Figure size 640x480 with 1 Axes>"
            ],
            "image/png": "[encoded data removed]"
          },
          "metadata": {}
        }
      ]
    },
    {
      "cell_type": "code",
      "source": [
        "from sklearn.linear_model import LinearRegression\n",
        "\n",
        "model1 = LinearRegression(fit_intercept=True)\n",
        "model1.fit(x[:, np.newaxis], y)#Fit ederken newaxis ile birlikte x'i 1D lin regden 2Dye çıkarıyo\n",
        "#Bundan sonra model x ve y arasındaki ilişkiyi algılıyor\n",
        "\n",
        "model2 = LinearRegression(fit_intercept=True)\n",
        "model2.fit(t[:, np.newaxis], z)\n",
        "\n",
        "xfit = np.linspace(0, 10, 1000) #Yeni 1000 tane x üretiyor\n",
        "#print(xfit[:, np.newaxis])\n",
        "yfit = model1.predict(xfit[:, np.newaxis]) #xfit lere yeni boyut ekliyor ve predict ediyo yleri\n",
        "\n",
        "tfit = np.linspace(0, 10, 1000)\n",
        "zfit = model2.predict(tfit[:, np.newaxis])\n",
        "\n",
        "plt.scatter(x, y)\n",
        "plt.plot(xfit, yfit);\n",
        "\n",
        "plt.scatter(t, z)\n",
        "plt.plot(tfit, zfit);"
      ],
      "metadata": {
        "colab": {
          "base_uri": "https://localhost:8080/",
          "height": 425
        },
        "id": "FboDtb9Qlpp_",
        "outputId": "83bbd5bd-39b1-4816-f6ec-b9c62abb4085"
      },
      "execution_count": null,
      "outputs": [
        {
          "output_type": "display_data",
          "data": {
            "text/plain": [
              "<Figure size 640x480 with 1 Axes>"
            ],
            "image/png": "[encoded data removed]"
          },
          "metadata": {}
        }
      ]
    },
    {
      "cell_type": "code",
      "source": [
        "print(\"Model 1 slope:    \", model1.coef_[0]) #Bunda tek bir bağımsız değişken x olduğu için coef_[0]\n",
        "print(\"Model 1 intercept:\", model1.intercept_) #y-eksenini kestiği noktalar\n",
        "\n",
        "print(\"Model 2 slope:    \", model2.coef_[0])\n",
        "print(\"Model 2 intercept:\", model2.intercept_)"
      ],
      "metadata": {
        "colab": {
          "base_uri": "https://localhost:8080/"
        },
        "id": "vl_z0jrFo_Xz",
        "outputId": "d6c8e90e-ad92-45cc-d5a8-372584b2c9ba"
      },
      "execution_count": null,
      "outputs": [
        {
          "output_type": "stream",
          "name": "stdout",
          "text": [
            "Model 1 slope:     1.9776566003853107\n",
            "Model 1 intercept: -4.903310725531115\n",
            "Model 2 slope:     2.0168392382175107\n",
            "Model 2 intercept: -5.024461318968481\n"
          ]
        }
      ]
    },
    {
      "cell_type": "markdown",
      "source": [
        "The `LinearRegression` estimator is much more capable than this, however—in addition to simple straight-line fits, it can also handle multidimensional linear models of the form:\n",
        "$$\n",
        "y = a_0 + a_1 x_1 + a_2 x_2 + \\cdots\n",
        "$$\n",
        "where there are multiple $x$ values.\n",
        "Geometrically, this is akin to fitting a plane to points in three dimensions, or fitting a hyperplane to points in higher dimensions.\n",
        "\n",
        "The multidimensional nature of such regressions makes them more difficult to visualize, but we can see one of these fits in action by building some example data, using NumPy's matrix multiplication operator:"
      ],
      "metadata": {
        "id": "eeUsjShZqHAj"
      }
    },
    {
      "cell_type": "code",
      "source": [
        "#3 boyutlu linear regression örneği ama virtualise etmek çok zor\n",
        "#y=a_0+a_1*x_1+a_2*x_2+a_3*x_3\n",
        "\n",
        "rng = np.random.RandomState(1) #Seed 1\n",
        "X = 10 * rng.rand(100, 3) #3 sütunlu yani 3 boyutlu oluşturuyor 0 ve 1 arası total 100 tane\n",
        "y = 0.5 + np.dot(X, [1.5, -2., 1.]) #Dot product yapıyo np.dot şunu öğren be oğuz artık\n",
        "\n",
        "model.fit(X, y)\n",
        "print(model.intercept_)\n",
        "print(model.coef_)"
      ],
      "metadata": {
        "colab": {
          "base_uri": "https://localhost:8080/",
          "height": 245
        },
        "id": "yYiBDB9bp5OB",
        "outputId": "aeeed819-1764-4071-8221-6941e08a7403"
      },
      "execution_count": null,
      "outputs": [
        {
          "output_type": "error",
          "ename": "NameError",
          "evalue": "ignored",
          "traceback": [
            "\u001b[0;31m---------------------------------------------------------------------------\u001b[0m",
            "\u001b[0;31mNameError\u001b[0m                                 Traceback (most recent call last)",
            "\u001b[0;32m<ipython-input-5-1d5213a9965f>\u001b[0m in \u001b[0;36m<cell line: 8>\u001b[0;34m()\u001b[0m\n\u001b[1;32m      6\u001b[0m \u001b[0my\u001b[0m \u001b[0;34m=\u001b[0m \u001b[0;36m0.5\u001b[0m \u001b[0;34m+\u001b[0m \u001b[0mnp\u001b[0m\u001b[0;34m.\u001b[0m\u001b[0mdot\u001b[0m\u001b[0;34m(\u001b[0m\u001b[0mX\u001b[0m\u001b[0;34m,\u001b[0m \u001b[0;34m[\u001b[0m\u001b[0;36m1.5\u001b[0m\u001b[0;34m,\u001b[0m \u001b[0;34m-\u001b[0m\u001b[0;36m2.\u001b[0m\u001b[0;34m,\u001b[0m \u001b[0;36m1.\u001b[0m\u001b[0;34m]\u001b[0m\u001b[0;34m)\u001b[0m \u001b[0;31m#Dot product yapıyo np.dot şunu öğren be oğuz artık\u001b[0m\u001b[0;34m\u001b[0m\u001b[0;34m\u001b[0m\u001b[0m\n\u001b[1;32m      7\u001b[0m \u001b[0;34m\u001b[0m\u001b[0m\n\u001b[0;32m----> 8\u001b[0;31m \u001b[0mmodel\u001b[0m\u001b[0;34m.\u001b[0m\u001b[0mfit\u001b[0m\u001b[0;34m(\u001b[0m\u001b[0mX\u001b[0m\u001b[0;34m,\u001b[0m \u001b[0my\u001b[0m\u001b[0;34m)\u001b[0m\u001b[0;34m\u001b[0m\u001b[0;34m\u001b[0m\u001b[0m\n\u001b[0m\u001b[1;32m      9\u001b[0m \u001b[0mprint\u001b[0m\u001b[0;34m(\u001b[0m\u001b[0mmodel\u001b[0m\u001b[0;34m.\u001b[0m\u001b[0mintercept_\u001b[0m\u001b[0;34m)\u001b[0m\u001b[0;34m\u001b[0m\u001b[0;34m\u001b[0m\u001b[0m\n\u001b[1;32m     10\u001b[0m \u001b[0mprint\u001b[0m\u001b[0;34m(\u001b[0m\u001b[0mmodel\u001b[0m\u001b[0;34m.\u001b[0m\u001b[0mcoef_\u001b[0m\u001b[0;34m)\u001b[0m\u001b[0;34m\u001b[0m\u001b[0;34m\u001b[0m\u001b[0m\n",
            "\u001b[0;31mNameError\u001b[0m: name 'model' is not defined"
          ]
        }
      ]
    },
    {
      "cell_type": "markdown",
      "source": [
        "## **Basis Function Regression**"
      ],
      "metadata": {
        "id": "J-GQm9lWuCqF"
      }
    },
    {
      "cell_type": "code",
      "source": [
        "from sklearn.preprocessing import PolynomialFeatures\n",
        "\n",
        "x = np.array([2, 3, 4])\n",
        "poly = PolynomialFeatures(degree = 3, include_bias=False)\n",
        "poly.fit_transform(x[:, None]) #Önce vektör yapıyor sonra polynomial yapıyor\n"
      ],
      "metadata": {
        "id": "NLdMJUYutOf0"
      },
      "execution_count": null,
      "outputs": []
    },
    {
      "cell_type": "code",
      "source": [
        "from sklearn.feature_extraction import DictVectorizer\n",
        "\n",
        "data = [\n",
        "    {'price': 850000, 'rooms': 4, 'neighborhood': 'Queen Anne'},\n",
        "    {'price': 700000, 'rooms': 3, 'neighborhood': 'Fremont'},\n",
        "    {'price': 650000, 'rooms': 3, 'neighborhood': 'Wallingford'},\n",
        "    {'price': 600000, 'rooms': 2, 'neighborhood': 'Fremont'}\n",
        "] #Features\n",
        "{'Queen Anne': 1, 'Fremont': 2, 'Wallingford': 3}; #İsimleri sayılaştırıyor\n",
        "\n",
        "vec = DictVectorizer(sparse=False, dtype=int) #Sözlükleri sayısal vektörlere dönüştürüyor\n",
        "#Sparse False olduğu için dense(yoğun) bir matris oluşturuyo ve vektörün elemanları tam sayı\n",
        "vec.fit_transform(data) #Hem fit ettirtiyo hem de dönüştürüyo sayısal vektöre\n",
        "\n",
        "vec.get_feature_names_out()\n",
        "\n",
        "#There is one clear disadvantage of this approach: if your category has many\n",
        "#possible values, this can greatly increase the size of your dataset. However,\n",
        "#because the encoded data contains mostly zeros, a sparse output can be a very efficient solution:\n",
        "vec = DictVectorizer(sparse=True, dtype=int) #Burada da sparse seyrek matrix hali\n",
        "vec.fit_transform(data)"
      ],
      "metadata": {
        "id": "5vjkPSJxvG7g"
      },
      "execution_count": null,
      "outputs": []
    },
    {
      "cell_type": "code",
      "source": [
        "sample = ['problem of evil',\n",
        "          'evil queen',\n",
        "          'horizon problem']\n",
        "from sklearn.feature_extraction.text import CountVectorizer\n",
        "import pandas as pd\n",
        "from sklearn.feature_extraction.text import TfidfVectorizer\n",
        "\n",
        "vec = CountVectorizer() #Kelimeleri saymaya yarıyor\n",
        "X = vec.fit_transform(sample) #Hem fit ettiriyo hem de sayısal matrise dönüştürüyor ama Sparse\n",
        "\n",
        "pd.DataFrame(X.toarray(), columns=vec.get_feature_names_out())\n",
        "#toarray Sparse'ı dense'e çeviriyor ve kolonları isimlerden seçiyor\n",
        "\n",
        "vec = TfidfVectorizer()\n",
        "#Bu vektörleştirici saydığı terim frekansını hesaplayarak önemini değerlendiriyor\n",
        "X = vec.fit_transform(sample)\n",
        "pd.DataFrame(X.toarray(), columns=vec.get_feature_names_out())"
      ],
      "metadata": {
        "id": "tECdGsS8ymZB"
      },
      "execution_count": null,
      "outputs": []
    },
    {
      "cell_type": "code",
      "source": [
        "from sklearn.pipeline import make_pipeline\n",
        "poly_model = make_pipeline(PolynomialFeatures(7),\n",
        "                           LinearRegression())\n",
        "\n",
        "rng = np.random.RandomState(1)\n",
        "x = 10 * rng.rand(50)\n",
        "y = np.sin(x) + 0.1 * rng.randn(50)\n",
        "\n",
        "poly_model.fit(x[:, np.newaxis], y)\n",
        "yfit = poly_model.predict(xfit[:, np.newaxis])\n",
        "\n",
        "plt.scatter(x, y)\n",
        "plt.plot(xfit, yfit);"
      ],
      "metadata": {
        "id": "CM_p0YWy1BuB"
      },
      "execution_count": null,
      "outputs": []
    },
    {
      "cell_type": "code",
      "source": [
        "from sklearn.base import BaseEstimator, TransformerMixin\n",
        "\n",
        "class GaussianFeatures(BaseEstimator, TransformerMixin):\n",
        "    \"\"\"Uniformly spaced Gaussian features for one-dimensional input\"\"\"\n",
        "\n",
        "    def __init__(self, N, width_factor=2.0):\n",
        "        self.N = N\n",
        "        self.width_factor = width_factor\n",
        "\n",
        "    @staticmethod\n",
        "    def _gauss_basis(x, y, width, axis=None):\n",
        "        arg = (x - y) / width\n",
        "        return np.exp(-0.5 * np.sum(arg ** 2, axis))\n",
        "\n",
        "    def fit(self, X, y=None):\n",
        "        # create N centers spread along the data range\n",
        "        self.centers_ = np.linspace(X.min(), X.max(), self.N)\n",
        "        self.width_ = self.width_factor * (self.centers_[1] - self.centers_[0])\n",
        "        return self\n",
        "\n",
        "    def transform(self, X):\n",
        "        return self._gauss_basis(X[:, :, np.newaxis], self.centers_,\n",
        "                                 self.width_, axis=1)\n",
        "\n",
        "gauss_model = make_pipeline(GaussianFeatures(20),\n",
        "                            LinearRegression())\n",
        "gauss_model.fit(x[:, np.newaxis], y)\n",
        "yfit = gauss_model.predict(xfit[:, np.newaxis])\n",
        "\n",
        "plt.scatter(x, y)\n",
        "plt.plot(xfit, yfit)\n",
        "plt.xlim(0, 10);"
      ],
      "metadata": {
        "id": "oOQ9VgMa1sqn"
      },
      "execution_count": null,
      "outputs": []
    },
    {
      "cell_type": "markdown",
      "source": [
        "## **Regularization**"
      ],
      "metadata": {
        "id": "luKIkpla3EeR"
      }
    },
    {
      "cell_type": "markdown",
      "source": [
        "Buna çalış ya hyper parametres ve linear regressionda sectionu var"
      ],
      "metadata": {
        "id": "Nm7XuZX83SCw"
      }
    },
    {
      "cell_type": "markdown",
      "source": [
        "## **Example: Predicting Bicycle Traffic**"
      ],
      "metadata": {
        "id": "FeWGsYV83g4d"
      }
    },
    {
      "cell_type": "code",
      "source": [
        "url = 'https://raw.githubusercontent.com/jakevdp/bicycle-data/main'\n",
        "!curl -O {url}/FremontBridge.csv\n",
        "!curl -O {url}/SeattleWeather.csv"
      ],
      "metadata": {
        "id": "CFt0kYY93rk8",
        "colab": {
          "base_uri": "https://localhost:8080/"
        },
        "outputId": "51671624-0d78-4581-ba4e-5711325f8370"
      },
      "execution_count": null,
      "outputs": [
        {
          "output_type": "stream",
          "name": "stdout",
          "text": [
            "  % Total    % Received % Xferd  Average Speed   Time    Time     Time  Current\n",
            "                                 Dload  Upload   Total   Spent    Left  Speed\n",
            "100 4585k  100 4585k    0     0   9.9M      0 --:--:-- --:--:-- --:--:--  9.9M\n",
            "  % Total    % Received % Xferd  Average Speed   Time    Time     Time  Current\n",
            "                                 Dload  Upload   Total   Spent    Left  Speed\n",
            "100  534k  100  534k    0     0  1771k      0 --:--:-- --:--:-- --:--:-- 1775k\n"
          ]
        }
      ]
    },
    {
      "cell_type": "code",
      "source": [
        "import pandas as pd\n",
        "\n",
        "counts = pd.read_csv('FremontBridge.csv',\n",
        "                     index_col='Date', parse_dates=True)\n",
        "weather = pd.read_csv('SeattleWeather.csv',\n",
        "                      index_col='DATE', parse_dates=True)"
      ],
      "metadata": {
        "id": "eG58XXZZ4jjD"
      },
      "execution_count": null,
      "outputs": []
    },
    {
      "cell_type": "code",
      "source": [
        "counts = counts[counts.index < \"2020-01-01\"]\n",
        "weather = weather[weather.index < \"2020-01-01\"]\n",
        "\n",
        "daily = counts.resample('d').sum()\n",
        "daily['Total'] = daily.sum(axis=1)\n",
        "daily = daily[['Total']] # remove other columns\n",
        "\n",
        "daily = counts.resample('d').sum()\n",
        "daily['Total'] = daily.sum(axis=1)\n",
        "daily = daily[['Total']] # remove other columns\n",
        "\n",
        "days = ['Mon', 'Tue', 'Wed', 'Thu', 'Fri', 'Sat', 'Sun']\n",
        "for i in range(7):\n",
        "    daily[days[i]] = (daily.index.dayofweek == i).astype(float)\n",
        "\"\"\"\n",
        "def encode_day(day_of_week):\n",
        "    \"Haftanın gününü 3-bit ikili kodlama sistemine dönüştür\"\n",
        "    encoding = {\n",
        "        0: [1, 0, 0], # Pazartesi\n",
        "        1: [0, 1, 0], # Salı\n",
        "        2: [0, 0, 1], # Çarşamba\n",
        "        3: [1, 1, 0], # Perşembe hazret\n",
        "        4: [1, 0, 1], # Cuma\n",
        "        5: [1, 1, 1], # Cumartesi\n",
        "        6: [0, 1, 1]  # Pazar\n",
        "    }\n",
        "    return encoding.get(day_of_week, [0, 0, 0]) # Eğer bilinmeyen bir günse [0, 0, 0] döndür\n",
        "\n",
        "days_encoded = daily.index.dayofweek.map(encode_day)\n",
        "daily['Bit1'], daily['Bit2'], daily['Bit3'] = zip(*days_encoded)\n",
        "\"\"\""
      ],
      "metadata": {
        "id": "qnQ5bOyo4vbo",
        "colab": {
          "base_uri": "https://localhost:8080/",
          "height": 88
        },
        "outputId": "3e80d877-ded5-428f-989a-fe4b24b1b5aa"
      },
      "execution_count": null,
      "outputs": [
        {
          "output_type": "execute_result",
          "data": {
            "text/plain": [
              "'\\ndef encode_day(day_of_week):\\n    \"Haftanın gününü 3-bit ikili kodlama sistemine dönüştür\"\\n    encoding = {\\n        0: [1, 0, 0], # Pazartesi\\n        1: [0, 1, 0], # Salı\\n        2: [0, 0, 1], # Çarşamba\\n        3: [1, 1, 0], # Perşembe hazret\\n        4: [1, 0, 1], # Cuma\\n        5: [1, 1, 1], # Cumartesi\\n        6: [0, 1, 1]  # Pazar\\n    }\\n    return encoding.get(day_of_week, [0, 0, 0]) # Eğer bilinmeyen bir günse [0, 0, 0] döndür\\n\\ndays_encoded = daily.index.dayofweek.map(encode_day)\\ndaily[\\'Bit1\\'], daily[\\'Bit2\\'], daily[\\'Bit3\\'] = zip(*days_encoded)\\n'"
            ],
            "application/vnd.google.colaboratory.intrinsic+json": {
              "type": "string"
            }
          },
          "metadata": {},
          "execution_count": 22
        }
      ]
    },
    {
      "cell_type": "markdown",
      "source": [
        "Benim 3 bitli denemem"
      ],
      "metadata": {
        "id": "0-yx9yf5GVSb"
      }
    },
    {
      "cell_type": "code",
      "source": [
        "import numpy as np\n",
        "import matplotlib.pyplot as plt\n",
        "import seaborn as sns\n",
        "import statsmodels.api as sm\n",
        "from sklearn.linear_model import LinearRegression\n",
        "from statsmodels.compat import lzip\n",
        "import statsmodels.stats.api as sms\n",
        "import numpy as np\n",
        "import matplotlib.pyplot as plt\n",
        "import seaborn as sns\n",
        "import statsmodels.api as sm\n",
        "from sklearn.linear_model import LinearRegression\n",
        "from sklearn.model_selection import train_test_split\n",
        "from statsmodels.compat import lzip\n",
        "import statsmodels.stats.api as sms"
      ],
      "metadata": {
        "id": "c02RFRjfGYNO"
      },
      "execution_count": null,
      "outputs": []
    },
    {
      "cell_type": "code",
      "source": [
        "from sklearn.model_selection import train_test_split\n",
        "from sklearn.linear_model import LinearRegression\n",
        "from sklearn.metrics import mean_squared_error\n",
        "\n",
        "# One-hot encoding\n",
        "days = ['Mon', 'Tue', 'Wed', 'Thu', 'Fri', 'Sat', 'Sun']\n",
        "for i in range(7):\n",
        "    daily[days[i]] = (daily.index.dayofweek == i).astype(float)\n",
        "\n",
        "X = daily[days]\n",
        "y = daily['Total']\n",
        "\n",
        "X_train, X_test, y_train, y_test = train_test_split(X, y, test_size=0.4, random_state=42)\n",
        "model = LinearRegression()\n",
        "model.fit(X_train, y_train)\n",
        "\n",
        "y_pred = model.predict(X_test)\n",
        "mse_one_hot = mean_squared_error(y_test, y_pred)\n"
      ],
      "metadata": {
        "id": "_-z177ZjEcWI"
      },
      "execution_count": null,
      "outputs": []
    },
    {
      "cell_type": "code",
      "source": [
        "def encode_day(day_of_week):\n",
        "    encoding = {\n",
        "        0: [1, 0, 0],\n",
        "        1: [0, 1, 0],\n",
        "        2: [0, 0, 1],\n",
        "        3: [1, 1, 0],\n",
        "        4: [1, 0, 1],\n",
        "        5: [1, 1, 1],\n",
        "        6: [0, 1, 1]\n",
        "    }\n",
        "    return encoding.get(day_of_week, [0, 0, 0])\n",
        "\n",
        "days_encoded = daily.index.dayofweek.map(encode_day)\n",
        "daily['Bit1'], daily['Bit2'], daily['Bit3'] = zip(*days_encoded)\n",
        "\n",
        "X = daily[['Bit1', 'Bit2', 'Bit3']]\n",
        "y = daily['Total']\n",
        "\n",
        "X_train, X_test, y_train, y_test = train_test_split(X, y, test_size=0.4, random_state=42)\n",
        "model = LinearRegression()\n",
        "model.fit(X_train, y_train)\n",
        "\n",
        "y_pred = model.predict(X_test)\n",
        "mse_3bit = mean_squared_error(y_test, y_pred)\n"
      ],
      "metadata": {
        "id": "nlc4okglEwWd"
      },
      "execution_count": null,
      "outputs": []
    },
    {
      "cell_type": "code",
      "source": [
        "print(f\"MSE for One-Hot Encoding: {mse_one_hot}\")\n",
        "print(f\"MSE for 3-Bit Encoding: {mse_3bit}\")\n"
      ],
      "metadata": {
        "id": "Jd7CHvCeEyXw",
        "colab": {
          "base_uri": "https://localhost:8080/"
        },
        "outputId": "02422133-7452-4e78-e132-c6de58bd44f5"
      },
      "execution_count": null,
      "outputs": [
        {
          "output_type": "stream",
          "name": "stdout",
          "text": [
            "MSE for One-Hot Encoding: 19891355.72426818\n",
            "MSE for 3-Bit Encoding: 22484836.111499265\n"
          ]
        }
      ]
    },
    {
      "cell_type": "code",
      "source": [
        "# 3-bit encoding for days\n",
        "encoding_3bit = {\n",
        "    0: [1, 0, 0],\n",
        "    1: [0, 1, 0],\n",
        "    2: [0, 0, 1],\n",
        "    3: [1, 1, 0],\n",
        "    4: [1, 0, 1],\n",
        "    5: [1, 1, 1],\n",
        "    6: [0, 1, 1]\n",
        "}\n",
        "\n",
        "# Encoding days using the 3-bit representation\n",
        "for iday in enumerate(days):\n",
        "    for j, bit in enumerate(encoding_3bit[i]):\n",
        "        daily[f\"{day}_bit_{j}\"] = (daily.index.dayofweek == i).astype(float) * bit\n",
        "\n",
        "# Selecting the 3-bit encoded columns for the input dataset\n",
        "X_3bit = daily[[f\"{day}_bit_{j}\" for day in days for j in range(3)]]\n",
        "\n",
        "# Splitting the dataset into training and test sets\n",
        "X_train_3bit, X_test_3bit, y_train_3bit, y_test_3bit = train_test_split(X_3bit, y, test_size=0.3, random_state=42)\n",
        "\n",
        "# Training the model using the 3-bit encoded data\n",
        "model_3bit = LinearRegression()\n",
        "model_3bit.fit(X_train_3bit, y_train_3bit)\n",
        "\n",
        "# Predicting using the 3-bit encoded model\n",
        "y_pred_3bit = model_3bit.predict(X_test_3bit)\n",
        "mse_3bit = mean_squared_error(y_test_3bit, y_pred_3bit)\n"
      ],
      "metadata": {
        "id": "756xROb6KCLF",
        "colab": {
          "base_uri": "https://localhost:8080/",
          "height": 245
        },
        "outputId": "0ba9498a-be72-4411-8aad-9e31567188d9"
      },
      "execution_count": null,
      "outputs": [
        {
          "output_type": "error",
          "ename": "NameError",
          "evalue": "ignored",
          "traceback": [
            "\u001b[0;31m---------------------------------------------------------------------------\u001b[0m",
            "\u001b[0;31mNameError\u001b[0m                                 Traceback (most recent call last)",
            "\u001b[0;32m<ipython-input-27-4f14822b9b6d>\u001b[0m in \u001b[0;36m<cell line: 13>\u001b[0;34m()\u001b[0m\n\u001b[1;32m     13\u001b[0m \u001b[0;32mfor\u001b[0m \u001b[0miday\u001b[0m \u001b[0;32min\u001b[0m \u001b[0menumerate\u001b[0m\u001b[0;34m(\u001b[0m\u001b[0mdays\u001b[0m\u001b[0;34m)\u001b[0m\u001b[0;34m:\u001b[0m\u001b[0;34m\u001b[0m\u001b[0;34m\u001b[0m\u001b[0m\n\u001b[1;32m     14\u001b[0m     \u001b[0;32mfor\u001b[0m \u001b[0mj\u001b[0m\u001b[0;34m,\u001b[0m \u001b[0mbit\u001b[0m \u001b[0;32min\u001b[0m \u001b[0menumerate\u001b[0m\u001b[0;34m(\u001b[0m\u001b[0mencoding_3bit\u001b[0m\u001b[0;34m[\u001b[0m\u001b[0mi\u001b[0m\u001b[0;34m]\u001b[0m\u001b[0;34m)\u001b[0m\u001b[0;34m:\u001b[0m\u001b[0;34m\u001b[0m\u001b[0;34m\u001b[0m\u001b[0m\n\u001b[0;32m---> 15\u001b[0;31m         \u001b[0mdaily\u001b[0m\u001b[0;34m[\u001b[0m\u001b[0;34mf\"{day}_bit_{j}\"\u001b[0m\u001b[0;34m]\u001b[0m \u001b[0;34m=\u001b[0m \u001b[0;34m(\u001b[0m\u001b[0mdaily\u001b[0m\u001b[0;34m.\u001b[0m\u001b[0mindex\u001b[0m\u001b[0;34m.\u001b[0m\u001b[0mdayofweek\u001b[0m \u001b[0;34m==\u001b[0m \u001b[0mi\u001b[0m\u001b[0;34m)\u001b[0m\u001b[0;34m.\u001b[0m\u001b[0mastype\u001b[0m\u001b[0;34m(\u001b[0m\u001b[0mfloat\u001b[0m\u001b[0;34m)\u001b[0m \u001b[0;34m*\u001b[0m \u001b[0mbit\u001b[0m\u001b[0;34m\u001b[0m\u001b[0;34m\u001b[0m\u001b[0m\n\u001b[0m\u001b[1;32m     16\u001b[0m \u001b[0;34m\u001b[0m\u001b[0m\n\u001b[1;32m     17\u001b[0m \u001b[0;31m# Selecting the 3-bit encoded columns for the input dataset\u001b[0m\u001b[0;34m\u001b[0m\u001b[0;34m\u001b[0m\u001b[0m\n",
            "\u001b[0;31mNameError\u001b[0m: name 'day' is not defined"
          ]
        }
      ]
    },
    {
      "cell_type": "code",
      "source": [
        "import numpy as np\n",
        "import scipy.stats as stats\n",
        "import matplotlib.pyplot as plt\n",
        "\n",
        "# Calculating residuals for both models\n",
        "residuals_one_hot = y_test - y_pred\n",
        "residuals_3bit = y_test_3bit - y_pred_3bit\n",
        "\n",
        "# Q-Q plot for one-hot encoded model\n",
        "plt.subplot(1, 2, 1)\n",
        "stats.probplot(residuals_one_hot, dist=\"norm\", plot=plt)\n",
        "plt.title(\"Q-Q Plot (One-Hot Encoding)\")\n",
        "\n",
        "# Q-Q plot for 3-bit encoded model\n",
        "plt.subplot(1, 2, 2)\n",
        "stats.probplot(residuals_3bit, dist=\"norm\", plot=plt)\n",
        "plt.title(\"Q-Q Plot (3-bit Encoding)\")\n",
        "\n",
        "plt.tight_layout()\n",
        "plt.show()\n"
      ],
      "metadata": {
        "id": "KPUHJr7YKD3d",
        "colab": {
          "base_uri": "https://localhost:8080/",
          "height": 245
        },
        "outputId": "55ee0e7a-ff96-40c1-b864-56a09deccba7"
      },
      "execution_count": null,
      "outputs": [
        {
          "output_type": "error",
          "ename": "NameError",
          "evalue": "ignored",
          "traceback": [
            "\u001b[0;31m---------------------------------------------------------------------------\u001b[0m",
            "\u001b[0;31mNameError\u001b[0m                                 Traceback (most recent call last)",
            "\u001b[0;32m<ipython-input-28-f8da96c66e05>\u001b[0m in \u001b[0;36m<cell line: 7>\u001b[0;34m()\u001b[0m\n\u001b[1;32m      5\u001b[0m \u001b[0;31m# Calculating residuals for both models\u001b[0m\u001b[0;34m\u001b[0m\u001b[0;34m\u001b[0m\u001b[0m\n\u001b[1;32m      6\u001b[0m \u001b[0mresiduals_one_hot\u001b[0m \u001b[0;34m=\u001b[0m \u001b[0my_test\u001b[0m \u001b[0;34m-\u001b[0m \u001b[0my_pred\u001b[0m\u001b[0;34m\u001b[0m\u001b[0;34m\u001b[0m\u001b[0m\n\u001b[0;32m----> 7\u001b[0;31m \u001b[0mresiduals_3bit\u001b[0m \u001b[0;34m=\u001b[0m \u001b[0my_test_3bit\u001b[0m \u001b[0;34m-\u001b[0m \u001b[0my_pred_3bit\u001b[0m\u001b[0;34m\u001b[0m\u001b[0;34m\u001b[0m\u001b[0m\n\u001b[0m\u001b[1;32m      8\u001b[0m \u001b[0;34m\u001b[0m\u001b[0m\n\u001b[1;32m      9\u001b[0m \u001b[0;31m# Q-Q plot for one-hot encoded model\u001b[0m\u001b[0;34m\u001b[0m\u001b[0;34m\u001b[0m\u001b[0m\n",
            "\u001b[0;31mNameError\u001b[0m: name 'y_test_3bit' is not defined"
          ]
        }
      ]
    },
    {
      "cell_type": "code",
      "source": [
        "days = ['Mon', 'Tue', 'Wed', 'Thu', 'Fri', 'Sat']\n",
        "for i in range(6):  # Sadece 6 gün için döngü oluşturuyoruz\n",
        "    daily[days[i]] = (daily.index.dayofweek == i).astype(float)\n",
        "\n",
        "X = daily[days]\n",
        "y = daily['Total']\n",
        "\n",
        "X_train_sixday, X_test_sixday, y_train_sixday, y_test_sixday = train_test_split(X, y, test_size=0.4, random_state=42)\n",
        "model = LinearRegression()\n",
        "model.fit(X_train_sixday, y_train_sixday)\n",
        "\n",
        "y_pred_sixday = model.predict(X_test_sixday)\n",
        "mse_six_days = mean_squared_error(y_test_sixday, y_pred_sixday)\n",
        "print(mse_six_days)\n",
        "print(mse_one_hot)\n",
        "\n",
        "import numpy as np\n",
        "import scipy.stats as stats\n",
        "import matplotlib.pyplot as plt\n",
        "\n",
        "# Calculating residuals for both models\n",
        "residuals_one_hot = y_test - y_pred\n",
        "residuals_sixday = y_test_sixday - y_pred_sixday\n",
        "\n",
        "# Q-Q plot for one-hot encoded model\n",
        "plt.subplot(1, 2, 1)\n",
        "stats.probplot(residuals_one_hot, dist=\"norm\", plot=plt)\n",
        "plt.title(\"Q-Q Plot (One-Hot Encoding)\")\n",
        "\n",
        "# Q-Q plot for 3-bit encoded model\n",
        "plt.subplot(1, 2, 2)\n",
        "stats.probplot(residuals_sixday, dist=\"norm\", plot=plt)\n",
        "plt.title(\"Q-Q Plot (Six day)\")\n",
        "\n",
        "plt.tight_layout()\n",
        "plt.show()\n"
      ],
      "metadata": {
        "id": "G4XGSum6aBHD",
        "colab": {
          "base_uri": "https://localhost:8080/",
          "height": 522
        },
        "outputId": "71695a36-be7c-4988-ecaa-91c7449a12bb"
      },
      "execution_count": null,
      "outputs": [
        {
          "output_type": "stream",
          "name": "stdout",
          "text": [
            "19885031.62978662\n",
            "19891355.72426818\n"
          ]
        },
        {
          "output_type": "display_data",
          "data": {
            "text/plain": [
              "<Figure size 640x480 with 2 Axes>"
            ],
            "image/png": "[encoded data removed]"
          },
          "metadata": {}
        }
      ]
    },
    {
      "cell_type": "code",
      "source": [
        "toplam1 = 0 # Öncelikle tek tek karelerinin toplamını arıyorum\n",
        "for a in range(1, 101):\n",
        "  toplam1 += a**2\n",
        "toplam2 = 0\n",
        "for i in range(1, 101):\n",
        "  toplam2 = i + toplam2\n",
        "toplam2 = toplam2**2\n",
        "\n",
        "print(toplam1, toplam2, toplam1-toplam2)\n",
        "\n"
      ],
      "metadata": {
        "id": "f0gg5WuVGDIz",
        "colab": {
          "base_uri": "https://localhost:8080/"
        },
        "outputId": "cd8d4b8a-4b63-46de-9aca-45c0de68bff0"
      },
      "execution_count": null,
      "outputs": [
        {
          "output_type": "stream",
          "name": "stdout",
          "text": [
            "338350 25502500 -25164150\n"
          ]
        }
      ]
    },
    {
      "cell_type": "code",
      "source": [
        "37107287533902102798797998220837590246510135740250+\n",
        "46376937677490009712648124896970078050417018260538+\n",
        "74324986199524741059474233309513058123726617309629+\n",
        "91942213363574161572522430563301811072406154908250+\n",
        "23067588207539346171171980310421047513778063246676+\n",
        "89261670696623633820136378418383684178734361726757+\n",
        "28112879812849979408065481931592621691275889832738+\n",
        "44274228917432520321923589422876796487670272189318+\n",
        "47451445736001306439091167216856844588711603153276+ 70386486105843025439939619828917593665686757934951+ 62176457141856560629502157223196586755079324193331+64906352462741904929101432445813822663347944758178+92575867718337217661963751590579239728245598838407+58203565325359399008402633568948830189458628227828 +80181199384826282014278194139940567587151170094390+35398664372827112653829987240784473053190104293586+86515506006295864861532075273371959191420517255829+71693888707715466499115593487603532921714970056938+54370070576826684624621495650076471787294438377604 +53282654108756828443191190634694037855217779295145 + 36123272525000296071075082563815656710885258350721 + 45876576172410976447339110607218265236877223636045 + 17423706905851860660448207621209813287860733969412 + 81142660418086830619328460811191061556940512689692 + 51934325451728388641918047049293215058642563049483 + 62467221648435076201727918039944693004732956340691 + 15732444386908125794514089057706229429197107928209 + 55037687525678773091862540744969844508330393682126 + 18336384825330154686196124348767681297534375946515 + 80386287592878490201521685554828717201219257766954 + 78182833757993103614740356856449095527097864797581 + 16726320100436897842553539920931837441497806860984 + 48403098129077791799088218795327364475675590848030 + 87086987551392711854517078544161852424320693150332 + 59959406895756536782107074926966537676326235447210 + 69793950679652694742597709739166693763042633987085 + 41052684708299085211399427365734116182760315001271 + 65378607361501080857009149939512557028198746004375 + 35829035317434717326932123578154982629742552737307 + 94953759765105305946966067683156574377167401875275 + 88902802571733229619176668713819931811048770190271 + 25267680276078003013678680992525463401061632866526 + 36270218540497705585629946580636237993140746255962 + 24074486908231174977792365466257246923322810917141 + 91430288197103288597806669760892938638285025333403 + 34413065578016127815921815005561868836468420090470 + 23053081172816430487623791969842487255036638784583 + 11487696932154902810424020138335124462181441773470 + 63783299490636259666498587618221225225512486764533 + 67720186971698544312419572409913959008952310058822 + 95548255300263520781532296796249481641953868218774 + 76085327132285723110424803456124867697064507995236 + 37774242535411291684276865538926205024910326572967 + 23701913275725675285653248258265463092207058596522 + 29798860272258331913126375147341994889534765745501 + 18495701454879288984856827726077713721403798879715 + 38298203783031473527721580348144513491373226651381 + 34829543829199918180278916522431027392251122869539 + 40957953066405232632538044100059654939159879593635 + 29746152185502371307642255121183693803580388584903 + 41698116222072977186158236678424689157993532961922 + 62467957194401269043877107275048102390895523597457 + 23189706772547915061505504953922979530901129967519 + 86188088225875314529584099251203829009407770775672 + 11306739708304724483816533873502340845647058077308 + 82959174767140363198008187129011875491310547126581 + 97623331044818386269515456334926366572897563400500 + 42846280183517070527831839425882145521227251250327 + 55121603546981200581762165212827652751691296897789 + 32238195734329339946437501907836945765883352399886 + 75506164965184775180738168837861091527357929701337 + 62177842752192623401942399639168044983993173312731 + 32924185707147349566916674687634660915035914677504 + 99518671430235219628894890102423325116913619626622 + 73267460800591547471830798392868535206946944540724 + 76841822524674417161514036427982273348055556214818 + 97142617910342598647204516893989422179826088076852 + 87783646182799346313767754307809363333018982642090 + 10848802521674670883215120185883543223812876952786 + 71329612474782464538636993009049310363619763878039 + 62184073572399794223406235393808339651327408011116 + 66627891981488087797941876876144230030984490851411 + 60661826293682836764744779239180335110989069790714 + 85786944089552990653640447425576083659976645795096 + 66024396409905389607120198219976047599490197230297 + 64913982680032973156037120041377903785566085089252 + 16730939319872750275468906903707539413042652315011 + 94809377245048795150954100921645863754710598436791 + 78639167021187492431995700641917969777599028300699 + 15368713711936614952811305876380278410754449733078 + 40789923115535562561142322423255033685442488917353 + 44889911501440648020369068063960672322193204149535 + 41503128880339536053299340368006977710650566631954 + 81234880673210146739058568557934581403627822703280 + 82616570773948327592232845941706525094512325230608 + 22918802058777319719839450180888072429661980811197 + 77158542502016545090413245809786882778948721859617 + 72107838435069186155435662884062257473692284509516 + 20849603980134001723930671666823555245252804609722 + 53503534226472524250874054075591789781264330331690"
      ],
      "metadata": {
        "id": "w-_2CRCQ2d2w"
      },
      "execution_count": null,
      "outputs": []
    },
    {
      "cell_type": "code",
      "source": [
        "\"\"\"\n",
        "c=0\n",
        "for a in range(1,600):\n",
        "  for b in range(1,600):\n",
        "    for c in range(1,600):\n",
        "      if c**2==a**2+b**2 and a+b+c==1000:\n",
        "        print(a,b,c)\n",
        "\"\"\"\n",
        "\n",
        "200*375*425\n",
        "\n",
        "31875000/(50**3)"
      ],
      "metadata": {
        "colab": {
          "base_uri": "https://localhost:8080/"
        },
        "id": "S8mx4JI56Hmx",
        "outputId": "ea3f18cb-daa7-4f28-92e5-ba74d2fa7b99"
      },
      "execution_count": null,
      "outputs": [
        {
          "output_type": "execute_result",
          "data": {
            "text/plain": [
              "255.0"
            ]
          },
          "metadata": {},
          "execution_count": 47
        }
      ]
    },
    {
      "cell_type": "markdown",
      "source": [
        "## Multilayer Perceptron From Scratch"
      ],
      "metadata": {
        "id": "xLV79cH_MFf_"
      }
    },
    {
      "cell_type": "code",
      "source": [
        "#https://www.kaggle.com/code/vitorgamalemos/multilayer-perceptron-from-scratch/notebook buradan hepsi\n",
        "\n",
        "import numpy as np\n",
        "import pandas as pd\n",
        "import matplotlib.pyplot as plt\n",
        "\n",
        "class SingleLayerPerceptron:\n",
        "    def __init__(self, my_weights, my_bias, learningRate=0.05):\n",
        "        self.weights = my_weights\n",
        "        self.bias = my_bias\n",
        "        self.learningRate = learningRate\n",
        "\n",
        "    def activation(self, net):\n",
        "        answer = 1 if net > 0 else 0\n",
        "        return answer\n",
        "\n",
        "    def neuron(self, inputs):\n",
        "        neuronArchitecture = np.dot(self.weights, inputs) + self.bias\n",
        "        return neuronArchitecture\n",
        "\n",
        "    def neuron_propagate(self, inputs):\n",
        "        processing = self.neuron(inputs)\n",
        "        return self.activation(processing)\n",
        "\n",
        "    def training(self, inputs, output):\n",
        "        output_prev = self.neuron_propagate(inputs)\n",
        "        self.weights = [W + X * self.learningRate * (output - output_prev)\n",
        "                       for (W, X) in zip(self.weights, inputs)]\n",
        "        self.bias += self.learningRate * (output - output_prev)\n",
        "        error_calculation = np.abs(output_prev - output)\n",
        "        return error_calculation\n",
        "\n",
        "data = pd.DataFrame(columns=('x1', 'x2'), data=np.random.uniform(size=(600,2)))\n",
        "data.head()\n",
        "\n",
        "def show_dataset(data, ax):\n",
        "    data[data.y==1].plot(kind='scatter', ax=ax, x='x1', y='x2', color='blue')\n",
        "    data[data.y==0].plot(kind='scatter', ax=ax, x='x1', y='x2', color='red')\n",
        "    plt.grid()\n",
        "    plt.title(' My Dataset')\n",
        "    ax.set_xlim(-0.1,1.1)\n",
        "    ax.set_ylim(-0.1,1.1)\n",
        "\n",
        "def testing(inputs):\n",
        "    answer = int(np.sum(inputs) > 1)\n",
        "    return answer\n",
        "\n",
        "data['y'] = data.apply(testing, axis=1)\n",
        "\n",
        "\n",
        "fig = plt.figure(figsize=(10,10))\n",
        "show_dataset(data, fig.gca())\n",
        "\n",
        "\n",
        "\n",
        "\n",
        "\n",
        "\n",
        "\n",
        "\n",
        "\n"
      ],
      "metadata": {
        "colab": {
          "base_uri": "https://localhost:8080/",
          "height": 801
        },
        "id": "sUKZNQROMHfP",
        "outputId": "41abe594-74f2-4839-a531-e826e70d9814"
      },
      "execution_count": null,
      "outputs": [
        {
          "output_type": "display_data",
          "data": {
            "text/plain": [
              "<Figure size 1000x1000 with 1 Axes>"
            ],
            "image/png": "[encoded data removed]"
          },
          "metadata": {}
        }
      ]
    }
  ]
}